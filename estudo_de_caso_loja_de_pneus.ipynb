{
  "nbformat": 4,
  "nbformat_minor": 0,
  "metadata": {
    "colab": {
      "provenance": [],
      "authorship_tag": "ABX9TyO21/M/hN1DxDX8PBVY9RDJ",
      "include_colab_link": true
    },
    "kernelspec": {
      "name": "python3",
      "display_name": "Python 3"
    },
    "language_info": {
      "name": "python"
    }
  },
  "cells": [
    {
      "cell_type": "markdown",
      "metadata": {
        "id": "view-in-github",
        "colab_type": "text"
      },
      "source": [
        "<a href=\"https://colab.research.google.com/github/spdr-lily/Descomplica-Data-Science/blob/main/estudo_de_caso_loja_de_pneus.ipynb\" target=\"_parent\"><img src=\"https://colab.research.google.com/assets/colab-badge.svg\" alt=\"Open In Colab\"/></a>"
      ]
    },
    {
      "cell_type": "markdown",
      "source": [
        "# APLICAÇÃO DE CIÊNCIA DE DADOS EM UM SISTEMA DE PRODUÇÃO DE PNEUS\n",
        "Uma fábrica de pneus quer otimizar sua produção e melhorar a eficiência operacional. Eles enfrentam desafios na previsão de demanda, gestão de estoque, e manutenção preditiva dos equipamentos."
      ],
      "metadata": {
        "id": "Ke8eQMK7wzrD"
      }
    },
    {
      "cell_type": "code",
      "execution_count": 2,
      "metadata": {
        "colab": {
          "base_uri": "https://localhost:8080/"
        },
        "id": "7F34vhjCwNcn",
        "outputId": "7323a6bc-de15-416f-a908-75a88cda3ecc"
      },
      "outputs": [
        {
          "output_type": "stream",
          "name": "stdout",
          "text": [
            "         Data  Produção  Defeitos   Manutenção  Produção Acumulada\n",
            "0  2023-01-01       100         2      Regular                 100\n",
            "1  2023-01-02       150         1   Preventiva                 250\n",
            "2  2023-01-03       200         3  Emergencial                 450\n"
          ]
        }
      ],
      "source": [
        " # coleta de dados\n",
        " import pandas as pd\n",
        "\n",
        "# Exemplo de criação de DataFrame com dados fictícios\n",
        "data = {\n",
        "    'Data': ['2023-01-01', '2023-01-02', '2023-01-03'],\n",
        "    'Produção': [100, 150, 200],\n",
        "    'Defeitos': [2, 1, 3],\n",
        "    'Manutenção': ['Regular', 'Preventiva', 'Emergencial']\n",
        "}\n",
        "df = pd.DataFrame(data)\n",
        "\n",
        "df['Produção Acumulada'] = df['Produção'].cumsum()\n",
        "print(df)"
      ]
    },
    {
      "cell_type": "code",
      "source": [
        "import matplotlib.pyplot as plt\n",
        "# Exemplo de gráfico de barras\n",
        "plt.bar(df['Data'], df['Produção'])\n",
        "plt.xlabel('Data')\n",
        "plt.ylabel('Produção')\n",
        "plt.title('Produção Diária de Pneus')\n",
        "plt.show()"
      ],
      "metadata": {
        "colab": {
          "base_uri": "https://localhost:8080/",
          "height": 472
        },
        "id": "7qh_2zPKznJw",
        "outputId": "1011476d-f57b-4425-a129-629c44004e73"
      },
      "execution_count": 3,
      "outputs": [
        {
          "output_type": "display_data",
          "data": {
            "text/plain": [
              "<Figure size 640x480 with 1 Axes>"
            ],
            "image/png": "[encoded data removed]"
          },
          "metadata": {}
        }
      ]
    },
    {
      "cell_type": "markdown",
      "source": [
        "Utilizando algoritmos de aprendizado de máquina, a fábrica pode prever quando os equipamentos precisarão de manutenção, reduzindo o tempo de inatividade e evitando falhas inesperadas"
      ],
      "metadata": {
        "id": "NZUyvd-B0OXH"
      }
    },
    {
      "cell_type": "code",
      "source": [
        "from sklearn.ensemble import RandomForestRegressor\n",
        "import numpy as np\n",
        "# Dados fictícios de manutenção e falhas\n",
        "X = np.array([[1, 100], [2, 150], [3, 200], [4, 250], [5, 300]])  # Exemplo: [Dias desde última manutenção, Produção]\n",
        "y = np.array([0, 0, 1, 0, 1])  # 1 indica falha, 0 indica sem falha\n",
        "# Treinamento do modelo\n",
        "model = RandomForestRegressor()\n",
        "model.fit(X, y)\n",
        "# Predição\n",
        "nova_producao = np.array([[6, 350]])  # Exemplo: 6 dias desde última manutenção e produção de 350 pneus\n",
        "predicao = model.predict(nova_producao)\n",
        "print(\"Probabilidade de falha:\", predicao)"
      ],
      "metadata": {
        "colab": {
          "base_uri": "https://localhost:8080/"
        },
        "id": "pOP0RdOy0JjX",
        "outputId": "58044efc-b2c5-4a31-8305-ddc0f4a9f97a"
      },
      "execution_count": 16,
      "outputs": [
        {
          "output_type": "stream",
          "name": "stdout",
          "text": [
            "Probabilidade de falha: [0.78]\n"
          ]
        }
      ]
    },
    {
      "cell_type": "markdown",
      "source": [
        "Com a análise de séries temporais, a fábrica pode prever a demanda futura de pneus, ajustando a produção e o estoque de acordo. Isso permite uma resposta rápida às mudanças do mercado e evita excessos ou faltas de produtos."
      ],
      "metadata": {
        "id": "2o7eI0cW0X8K"
      }
    },
    {
      "cell_type": "code",
      "source": [
        "from statsmodels.tsa.arima.model import ARIMA\n",
        "# Dados de vendas fictícios\n",
        "vendas = [100, 150, 200, 250, 300, 350, 400, 450]\n",
        "# Modelo ARIMA\n",
        "model = ARIMA(vendas, order=(5, 1, 0))\n",
        "model_fit = model.fit()\n",
        "predicoes = model_fit.forecast(steps=3)[0]\n",
        "print(\"Previsão de demanda para os próximos 3 dias:\", predicoes)"
      ],
      "metadata": {
        "colab": {
          "base_uri": "https://localhost:8080/"
        },
        "id": "hffjp_PL0XwR",
        "outputId": "1368db4f-cf42-4125-8b2b-ee73a56f1a58"
      },
      "execution_count": 18,
      "outputs": [
        {
          "output_type": "stream",
          "name": "stdout",
          "text": [
            "Previsão de demanda para os próximos 3 dias: 499.99999865050586\n"
          ]
        },
        {
          "output_type": "stream",
          "name": "stderr",
          "text": [
            "/usr/local/lib/python3.11/dist-packages/statsmodels/base/model.py:607: ConvergenceWarning: Maximum Likelihood optimization failed to converge. Check mle_retvals\n",
            "  warnings.warn(\"Maximum Likelihood optimization failed to \"\n"
          ]
        }
      ]
    },
    {
      "cell_type": "code",
      "source": [],
      "metadata": {
        "id": "fu6THIeH0Tvl"
      },
      "execution_count": null,
      "outputs": []
    }
  ]
}